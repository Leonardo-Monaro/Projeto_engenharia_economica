{
 "cells": [
  {
   "cell_type": "code",
   "execution_count": 3,
   "metadata": {},
   "outputs": [],
   "source": [
    "# Bibliotecas utilizadas\n",
    "import pandas as pd\n",
    "import numpy as np\n",
    "import numpy_financial as npf\n"
   ]
  },
  {
   "cell_type": "code",
   "execution_count": 6,
   "metadata": {},
   "outputs": [
    {
     "data": {
      "text/plain": [
       "6139.132535407592"
      ]
     },
     "execution_count": 6,
     "metadata": {},
     "output_type": "execute_result"
    }
   ],
   "source": [
    "# Valor Presente\n",
    "\n",
    "vf = -10000 # valor futuro\n",
    "i = 0.05 # taxa\n",
    "pagamento = 0\n",
    "\n",
    "valor_presente = npf.pv(i,10,pmt=0,fv=vf)\n",
    "valor_presente"
   ]
  },
  {
   "cell_type": "code",
   "execution_count": 9,
   "metadata": {},
   "outputs": [
    {
     "data": {
      "text/plain": [
       "10000.0"
      ]
     },
     "execution_count": 9,
     "metadata": {},
     "output_type": "execute_result"
    }
   ],
   "source": [
    "# Valor futuro\n",
    "\n",
    "valor_futuro = npf.fv(i,10,pmt=pagamento,pv=-valor_presente)\n",
    "valor_futuro"
   ]
  },
  {
   "cell_type": "code",
   "execution_count": 26,
   "metadata": {},
   "outputs": [
    {
     "data": {
      "text/plain": [
       "0.15000000000000002"
      ]
     },
     "execution_count": 26,
     "metadata": {},
     "output_type": "execute_result"
    }
   ],
   "source": [
    "# Valor Presente Liquido\n",
    "\n",
    "ativo = 100000000 # Valor a ser investido no negócio\n",
    "passivo_oneroso = ativo * 0.4 # Parte oriunda do banco, onerada com juros\n",
    "patrimonio_liquido = ativo * 0.6 # Parte oriunda do investidor, capital próprio\n",
    "\n",
    "ki = 0.12 # Juros do impréstimo(banco)\n",
    "ke = 0.17 # Taxa minima de retorno para os investidores\n",
    "\n",
    "# Custo medio ponderado de capital da empresa\n",
    "wacc = ((passivo_oneroso/ativo)*ki)+((patrimonio_liquido/ativo)*ke) # Poderamento pelo peso dentro do financiamento do ativo\n",
    "wacc"
   ]
  },
  {
   "cell_type": "code",
   "execution_count": 27,
   "metadata": {},
   "outputs": [
    {
     "data": {
      "text/plain": [
       "1.9708766350858458"
      ]
     },
     "execution_count": 27,
     "metadata": {},
     "output_type": "execute_result"
    }
   ],
   "source": [
    "# Fluxo de caixa\n",
    "# Negativos indicam prejuízo e positivos lucro\n",
    "cf1 = np.array([-100,-50,30,30,30,30,50,50,50,50])\n",
    "\n",
    "# Valor Presente Liquido\n",
    "vpl = npf.npv(wacc, cf1)\n",
    "vpl"
   ]
  },
  {
   "cell_type": "code",
   "execution_count": 29,
   "metadata": {},
   "outputs": [
    {
     "data": {
      "text/plain": [
       "0.1531623429687181"
      ]
     },
     "execution_count": 29,
     "metadata": {},
     "output_type": "execute_result"
    }
   ],
   "source": [
    "# TIR - Taxa Interna de Retorno\n",
    "# Vai igualar os fluxos futuros de caixa aos fluxos presentes(ao ano ou ao período avaliado)\n",
    "\n",
    "tir = npf.irr(cf1)\n",
    "tir"
   ]
  },
  {
   "cell_type": "code",
   "execution_count": 33,
   "metadata": {},
   "outputs": [
    {
     "name": "stdout",
     "output_type": "stream",
     "text": [
      "O projeto renderá resultados pois, a WACC(0.15000000000000002) é menor que a TIR(0.1531623429687181)\n",
      "O que nos mostra que isso irá aregar valor para a empresa\n"
     ]
    }
   ],
   "source": [
    "print(f'O projeto renderá resultados pois, a WACC({wacc}) é menor que a TIR({tir})')\n",
    "print('O que nos mostra que isso irá aregar valor para a empresa')"
   ]
  },
  {
   "cell_type": "code",
   "execution_count": 43,
   "metadata": {},
   "outputs": [
    {
     "name": "stdout",
     "output_type": "stream",
     "text": [
      "A empresa levará 78 meses ou 6.5 anos para recuperar o investimento\n"
     ]
    }
   ],
   "source": [
    "# Payback\n",
    "# Quanto tempo levará para o dinheiro retornar\n",
    "# Investimento inicial / Economia = Numero de bolos a serem vendidos\n",
    "# Numero de bolos a serem vendidos / Quantidade média vendida por mês\n",
    "\n",
    "bm = 800 # Bolos mês\n",
    "economia = 1600#R$\n",
    "bv = ativo / economia # Bolos a vender \n",
    "\n",
    "payback_mes = bv / bm\n",
    "\n",
    "payback_ano = payback_mes / 12\n",
    "\n",
    "print(f'A empresa levará {payback_mes:,.0f} meses ou {payback_ano:,.1f} anos para recuperar o investimento')"
   ]
  }
 ],
 "metadata": {
  "kernelspec": {
   "display_name": "base",
   "language": "python",
   "name": "python3"
  },
  "language_info": {
   "codemirror_mode": {
    "name": "ipython",
    "version": 3
   },
   "file_extension": ".py",
   "mimetype": "text/x-python",
   "name": "python",
   "nbconvert_exporter": "python",
   "pygments_lexer": "ipython3",
   "version": "3.11.5"
  }
 },
 "nbformat": 4,
 "nbformat_minor": 2
}
